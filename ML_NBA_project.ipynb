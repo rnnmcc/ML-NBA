{
 "cells": [
  {
   "cell_type": "markdown",
   "metadata": {},
   "source": [
    "# ACM30010 Assignment 3\n",
    "# Machine Learning Project\n",
    "## Ronan McCormack \n",
    "## 17328461"
   ]
  },
  {
   "cell_type": "code",
   "execution_count": 1,
   "metadata": {},
   "outputs": [],
   "source": [
    "import numpy as np\n",
    "import pandas as pd\n",
    "import matplotlib.pyplot as plt\n",
    "%matplotlib inline\n",
    "import warnings\n",
    "warnings.filterwarnings('ignore')"
   ]
  },
  {
   "cell_type": "markdown",
   "metadata": {},
   "source": [
    "## Outline"
   ]
  },
  {
   "cell_type": "markdown",
   "metadata": {},
   "source": [
    "Idea: From a dataset containing all box scores throughout an NBA regular season, select certain players and train models that classify each player based on several performance-indicating variables.\n",
    "\n",
    "The model should then take as input an individual box score, and output the player most likely to have logged that statline.\n",
    "\n",
    "- Season: 2017/18\n",
    "- Players: Can be specified\n",
    "- Classifying variables: Points, Rebounds, Assists, Steals, Blocks, Turnovers, Free throws attempted, Field goal %\n",
    "\n",
    "\n",
    "We'll first import and process the data. \n",
    "The player names and the classifying variables will be specified.\n",
    "\n",
    "We'll analyse and compare the players' data.\n",
    "\n",
    "We'll run several machine learning algorithms from Sci Kit learn on the processed data, namely: \n",
    "- Support Vector Machines\n",
    "- Logistic Regression\n",
    "- Perceptron\n",
    "- Stochastic Gradient Descent\n",
    "\n",
    "We'll then compare the accuracy of each model, and repeat for a different group of players."
   ]
  },
  {
   "cell_type": "markdown",
   "metadata": {},
   "source": [
    "---"
   ]
  },
  {
   "cell_type": "markdown",
   "metadata": {},
   "source": [
    "## The Dataset"
   ]
  },
  {
   "cell_type": "markdown",
   "metadata": {},
   "source": [
    "Note: I have the dataset saved on my pc in a subdirectory off the working directory named 'Data'"
   ]
  },
  {
   "cell_type": "code",
   "execution_count": 2,
   "metadata": {},
   "outputs": [],
   "source": [
    "raw_set = pd.read_csv('Data/2017_18_playerBoxScore.csv') # Load in dataset of all box scores from 17/18 season"
   ]
  },
  {
   "cell_type": "code",
   "execution_count": 3,
   "metadata": {},
   "outputs": [
    {
     "data": {
      "text/plain": [
       "(26109, 51)"
      ]
     },
     "execution_count": 3,
     "metadata": {},
     "output_type": "execute_result"
    }
   ],
   "source": [
    "raw_set.shape"
   ]
  },
  {
   "cell_type": "code",
   "execution_count": 4,
   "metadata": {},
   "outputs": [
    {
     "data": {
      "text/html": [
       "<div>\n",
       "<style scoped>\n",
       "    .dataframe tbody tr th:only-of-type {\n",
       "        vertical-align: middle;\n",
       "    }\n",
       "\n",
       "    .dataframe tbody tr th {\n",
       "        vertical-align: top;\n",
       "    }\n",
       "\n",
       "    .dataframe thead th {\n",
       "        text-align: right;\n",
       "    }\n",
       "</style>\n",
       "<table border=\"1\" class=\"dataframe\">\n",
       "  <thead>\n",
       "    <tr style=\"text-align: right;\">\n",
       "      <th></th>\n",
       "      <th>gmDate</th>\n",
       "      <th>gmTime</th>\n",
       "      <th>seasTyp</th>\n",
       "      <th>playLNm</th>\n",
       "      <th>playFNm</th>\n",
       "      <th>teamAbbr</th>\n",
       "      <th>teamConf</th>\n",
       "      <th>teamDiv</th>\n",
       "      <th>teamLoc</th>\n",
       "      <th>teamRslt</th>\n",
       "      <th>...</th>\n",
       "      <th>playFT%</th>\n",
       "      <th>playORB</th>\n",
       "      <th>playDRB</th>\n",
       "      <th>playTRB</th>\n",
       "      <th>opptAbbr</th>\n",
       "      <th>opptConf</th>\n",
       "      <th>opptDiv</th>\n",
       "      <th>opptLoc</th>\n",
       "      <th>opptRslt</th>\n",
       "      <th>opptDayOff</th>\n",
       "    </tr>\n",
       "  </thead>\n",
       "  <tbody>\n",
       "    <tr>\n",
       "      <td>0</td>\n",
       "      <td>2017-10-17</td>\n",
       "      <td>08:00</td>\n",
       "      <td>Regular</td>\n",
       "      <td>Brown</td>\n",
       "      <td>Jaylen</td>\n",
       "      <td>BOS</td>\n",
       "      <td>East</td>\n",
       "      <td>Atlantic</td>\n",
       "      <td>Away</td>\n",
       "      <td>Loss</td>\n",
       "      <td>...</td>\n",
       "      <td>0.5000</td>\n",
       "      <td>1</td>\n",
       "      <td>5</td>\n",
       "      <td>6</td>\n",
       "      <td>CLE</td>\n",
       "      <td>East</td>\n",
       "      <td>Central</td>\n",
       "      <td>Home</td>\n",
       "      <td>Win</td>\n",
       "      <td>0</td>\n",
       "    </tr>\n",
       "    <tr>\n",
       "      <td>1</td>\n",
       "      <td>2017-10-17</td>\n",
       "      <td>08:00</td>\n",
       "      <td>Regular</td>\n",
       "      <td>Irving</td>\n",
       "      <td>Kyrie</td>\n",
       "      <td>BOS</td>\n",
       "      <td>East</td>\n",
       "      <td>Atlantic</td>\n",
       "      <td>Away</td>\n",
       "      <td>Loss</td>\n",
       "      <td>...</td>\n",
       "      <td>1.0000</td>\n",
       "      <td>2</td>\n",
       "      <td>2</td>\n",
       "      <td>4</td>\n",
       "      <td>CLE</td>\n",
       "      <td>East</td>\n",
       "      <td>Central</td>\n",
       "      <td>Home</td>\n",
       "      <td>Win</td>\n",
       "      <td>0</td>\n",
       "    </tr>\n",
       "    <tr>\n",
       "      <td>2</td>\n",
       "      <td>2017-10-17</td>\n",
       "      <td>08:00</td>\n",
       "      <td>Regular</td>\n",
       "      <td>Tatum</td>\n",
       "      <td>Jayson</td>\n",
       "      <td>BOS</td>\n",
       "      <td>East</td>\n",
       "      <td>Atlantic</td>\n",
       "      <td>Away</td>\n",
       "      <td>Loss</td>\n",
       "      <td>...</td>\n",
       "      <td>1.0000</td>\n",
       "      <td>4</td>\n",
       "      <td>6</td>\n",
       "      <td>10</td>\n",
       "      <td>CLE</td>\n",
       "      <td>East</td>\n",
       "      <td>Central</td>\n",
       "      <td>Home</td>\n",
       "      <td>Win</td>\n",
       "      <td>0</td>\n",
       "    </tr>\n",
       "    <tr>\n",
       "      <td>3</td>\n",
       "      <td>2017-10-17</td>\n",
       "      <td>08:00</td>\n",
       "      <td>Regular</td>\n",
       "      <td>Horford</td>\n",
       "      <td>Al</td>\n",
       "      <td>BOS</td>\n",
       "      <td>East</td>\n",
       "      <td>Atlantic</td>\n",
       "      <td>Away</td>\n",
       "      <td>Loss</td>\n",
       "      <td>...</td>\n",
       "      <td>0.7143</td>\n",
       "      <td>0</td>\n",
       "      <td>7</td>\n",
       "      <td>7</td>\n",
       "      <td>CLE</td>\n",
       "      <td>East</td>\n",
       "      <td>Central</td>\n",
       "      <td>Home</td>\n",
       "      <td>Win</td>\n",
       "      <td>0</td>\n",
       "    </tr>\n",
       "    <tr>\n",
       "      <td>4</td>\n",
       "      <td>2017-10-17</td>\n",
       "      <td>08:00</td>\n",
       "      <td>Regular</td>\n",
       "      <td>Hayward</td>\n",
       "      <td>Gordon</td>\n",
       "      <td>BOS</td>\n",
       "      <td>East</td>\n",
       "      <td>Atlantic</td>\n",
       "      <td>Away</td>\n",
       "      <td>Loss</td>\n",
       "      <td>...</td>\n",
       "      <td>0.0000</td>\n",
       "      <td>0</td>\n",
       "      <td>1</td>\n",
       "      <td>1</td>\n",
       "      <td>CLE</td>\n",
       "      <td>East</td>\n",
       "      <td>Central</td>\n",
       "      <td>Home</td>\n",
       "      <td>Win</td>\n",
       "      <td>0</td>\n",
       "    </tr>\n",
       "  </tbody>\n",
       "</table>\n",
       "<p>5 rows × 51 columns</p>\n",
       "</div>"
      ],
      "text/plain": [
       "       gmDate gmTime  seasTyp  playLNm playFNm teamAbbr teamConf   teamDiv  \\\n",
       "0  2017-10-17  08:00  Regular    Brown  Jaylen      BOS     East  Atlantic   \n",
       "1  2017-10-17  08:00  Regular   Irving   Kyrie      BOS     East  Atlantic   \n",
       "2  2017-10-17  08:00  Regular    Tatum  Jayson      BOS     East  Atlantic   \n",
       "3  2017-10-17  08:00  Regular  Horford      Al      BOS     East  Atlantic   \n",
       "4  2017-10-17  08:00  Regular  Hayward  Gordon      BOS     East  Atlantic   \n",
       "\n",
       "  teamLoc teamRslt  ...  playFT% playORB playDRB playTRB opptAbbr opptConf  \\\n",
       "0    Away     Loss  ...   0.5000       1       5       6      CLE     East   \n",
       "1    Away     Loss  ...   1.0000       2       2       4      CLE     East   \n",
       "2    Away     Loss  ...   1.0000       4       6      10      CLE     East   \n",
       "3    Away     Loss  ...   0.7143       0       7       7      CLE     East   \n",
       "4    Away     Loss  ...   0.0000       0       1       1      CLE     East   \n",
       "\n",
       "   opptDiv opptLoc opptRslt  opptDayOff  \n",
       "0  Central    Home      Win           0  \n",
       "1  Central    Home      Win           0  \n",
       "2  Central    Home      Win           0  \n",
       "3  Central    Home      Win           0  \n",
       "4  Central    Home      Win           0  \n",
       "\n",
       "[5 rows x 51 columns]"
      ]
     },
     "execution_count": 4,
     "metadata": {},
     "output_type": "execute_result"
    }
   ],
   "source": [
    "raw_set.head(5)"
   ]
  },
  {
   "cell_type": "markdown",
   "metadata": {},
   "source": [
    "The dataset contains the box scores of every game of every player throughout the 2017-18 NBA regular season. The dataset contains 51 columns, most of which are of little interest to us. We'll only keep columns with player names and some stats that are most likely to distinguish players. \n",
    "\n",
    "We'll also only consider the box scores of certain players of our choosing."
   ]
  },
  {
   "cell_type": "markdown",
   "metadata": {},
   "source": [
    "---"
   ]
  },
  {
   "cell_type": "markdown",
   "metadata": {},
   "source": [
    "## Process Data\n",
    "\n",
    "The variables we will consider as predictors will be:\n",
    "\n",
    "- points scored\n",
    "- assists\n",
    "- total rebounds\n",
    "- steals\n",
    "- blocks\n",
    "- turnovers\n",
    "- field goal %\n",
    "- free throws attempted\n",
    " \n"
   ]
  },
  {
   "cell_type": "code",
   "execution_count": 5,
   "metadata": {},
   "outputs": [],
   "source": [
    "vars1 = [\"playDispNm\",\"playPTS\",\"playAST\",\"playTRB\",\"playSTL\",\"playBLK\",\"playTO\",\"playFG%\",\"playFTA\"]\n",
    "set1 = raw_set[vars1]"
   ]
  },
  {
   "cell_type": "code",
   "execution_count": 6,
   "metadata": {},
   "outputs": [
    {
     "data": {
      "text/html": [
       "<div>\n",
       "<style scoped>\n",
       "    .dataframe tbody tr th:only-of-type {\n",
       "        vertical-align: middle;\n",
       "    }\n",
       "\n",
       "    .dataframe tbody tr th {\n",
       "        vertical-align: top;\n",
       "    }\n",
       "\n",
       "    .dataframe thead th {\n",
       "        text-align: right;\n",
       "    }\n",
       "</style>\n",
       "<table border=\"1\" class=\"dataframe\">\n",
       "  <thead>\n",
       "    <tr style=\"text-align: right;\">\n",
       "      <th></th>\n",
       "      <th>playDispNm</th>\n",
       "      <th>playPTS</th>\n",
       "      <th>playAST</th>\n",
       "      <th>playTRB</th>\n",
       "      <th>playSTL</th>\n",
       "      <th>playBLK</th>\n",
       "      <th>playTO</th>\n",
       "      <th>playFG%</th>\n",
       "      <th>playFTA</th>\n",
       "    </tr>\n",
       "  </thead>\n",
       "  <tbody>\n",
       "    <tr>\n",
       "      <td>0</td>\n",
       "      <td>Jaylen Brown</td>\n",
       "      <td>25</td>\n",
       "      <td>0</td>\n",
       "      <td>6</td>\n",
       "      <td>3</td>\n",
       "      <td>0</td>\n",
       "      <td>3</td>\n",
       "      <td>0.4783</td>\n",
       "      <td>2</td>\n",
       "    </tr>\n",
       "  </tbody>\n",
       "</table>\n",
       "</div>"
      ],
      "text/plain": [
       "     playDispNm  playPTS  playAST  playTRB  playSTL  playBLK  playTO  playFG%  \\\n",
       "0  Jaylen Brown       25        0        6        3        0       3   0.4783   \n",
       "\n",
       "   playFTA  \n",
       "0        2  "
      ]
     },
     "execution_count": 6,
     "metadata": {},
     "output_type": "execute_result"
    }
   ],
   "source": [
    "set1.head(1)"
   ]
  },
  {
   "cell_type": "markdown",
   "metadata": {},
   "source": [
    "We'll keep only rows corresponding to players of our choosing. It'll be easier to classify players who typically log contrasting box scores in games as there are many players in the NBA who, statistically, perform very similar. \n",
    "\n",
    "Also, we'd expect more accuracy when choosing players who played many games throughout the season, rather than those who may have missed many games due to injury etc.\n",
    "\n",
    "We'll store the player names in a list, which can be easily edited.\n",
    "\n",
    "I have made two lists of players here.  \n",
    "*players_1* consists of players who tend to register contrasting statlines.  \n",
    "*players_2* consists of that season's All-NBA 1st Team. I would anticipate a lower degree of accuracy when classifying box scores of these guys, as they all tend to log big numbers in some categories."
   ]
  },
  {
   "cell_type": "code",
   "execution_count": 7,
   "metadata": {},
   "outputs": [],
   "source": [
    "players_1 = ['Ben Simmons', 'Clint Capela', 'Kyrie Irving']\n",
    "players_2 = ['Anthony Davis', 'Damian Lillard', 'James Harden', 'Kevin Durant', 'LeBron James']\n"
   ]
  },
  {
   "cell_type": "markdown",
   "metadata": {},
   "source": [
    "First, we'll go with *players_1*, and produce the dataset accordingly."
   ]
  },
  {
   "cell_type": "code",
   "execution_count": 8,
   "metadata": {},
   "outputs": [],
   "source": [
    "players = players_1"
   ]
  },
  {
   "cell_type": "code",
   "execution_count": 9,
   "metadata": {},
   "outputs": [],
   "source": [
    "# initialise with rows belonging to the first player in the list\n",
    "set2 = set1.loc[(set1['playDispNm']==players[0])]\n",
    " \n",
    "# append on rows belonging to the other players    \n",
    "for name in players[1:]:\n",
    "    set2 = set2.append(set1.loc[(set1['playDispNm']==name)], ignore_index=True)"
   ]
  },
  {
   "cell_type": "markdown",
   "metadata": {},
   "source": [
    "The dataset now contains the boxscores of each player throughout the season.\n"
   ]
  },
  {
   "cell_type": "code",
   "execution_count": 10,
   "metadata": {},
   "outputs": [
    {
     "data": {
      "text/html": [
       "<div>\n",
       "<style scoped>\n",
       "    .dataframe tbody tr th:only-of-type {\n",
       "        vertical-align: middle;\n",
       "    }\n",
       "\n",
       "    .dataframe tbody tr th {\n",
       "        vertical-align: top;\n",
       "    }\n",
       "\n",
       "    .dataframe thead th {\n",
       "        text-align: right;\n",
       "    }\n",
       "</style>\n",
       "<table border=\"1\" class=\"dataframe\">\n",
       "  <thead>\n",
       "    <tr style=\"text-align: right;\">\n",
       "      <th></th>\n",
       "      <th>playDispNm</th>\n",
       "      <th>playPTS</th>\n",
       "      <th>playAST</th>\n",
       "      <th>playTRB</th>\n",
       "      <th>playSTL</th>\n",
       "      <th>playBLK</th>\n",
       "      <th>playTO</th>\n",
       "      <th>playFG%</th>\n",
       "      <th>playFTA</th>\n",
       "    </tr>\n",
       "  </thead>\n",
       "  <tbody>\n",
       "    <tr>\n",
       "      <td>0</td>\n",
       "      <td>Ben Simmons</td>\n",
       "      <td>18</td>\n",
       "      <td>5</td>\n",
       "      <td>10</td>\n",
       "      <td>2</td>\n",
       "      <td>1</td>\n",
       "      <td>1</td>\n",
       "      <td>0.4667</td>\n",
       "      <td>6</td>\n",
       "    </tr>\n",
       "    <tr>\n",
       "      <td>1</td>\n",
       "      <td>Ben Simmons</td>\n",
       "      <td>11</td>\n",
       "      <td>5</td>\n",
       "      <td>11</td>\n",
       "      <td>1</td>\n",
       "      <td>0</td>\n",
       "      <td>4</td>\n",
       "      <td>0.3636</td>\n",
       "      <td>6</td>\n",
       "    </tr>\n",
       "    <tr>\n",
       "      <td>2</td>\n",
       "      <td>Ben Simmons</td>\n",
       "      <td>18</td>\n",
       "      <td>8</td>\n",
       "      <td>10</td>\n",
       "      <td>0</td>\n",
       "      <td>0</td>\n",
       "      <td>3</td>\n",
       "      <td>0.4375</td>\n",
       "      <td>8</td>\n",
       "    </tr>\n",
       "    <tr>\n",
       "      <td>3</td>\n",
       "      <td>Ben Simmons</td>\n",
       "      <td>21</td>\n",
       "      <td>10</td>\n",
       "      <td>12</td>\n",
       "      <td>1</td>\n",
       "      <td>0</td>\n",
       "      <td>4</td>\n",
       "      <td>0.7273</td>\n",
       "      <td>6</td>\n",
       "    </tr>\n",
       "    <tr>\n",
       "      <td>4</td>\n",
       "      <td>Ben Simmons</td>\n",
       "      <td>14</td>\n",
       "      <td>9</td>\n",
       "      <td>7</td>\n",
       "      <td>3</td>\n",
       "      <td>1</td>\n",
       "      <td>4</td>\n",
       "      <td>0.4118</td>\n",
       "      <td>2</td>\n",
       "    </tr>\n",
       "  </tbody>\n",
       "</table>\n",
       "</div>"
      ],
      "text/plain": [
       "    playDispNm  playPTS  playAST  playTRB  playSTL  playBLK  playTO  playFG%  \\\n",
       "0  Ben Simmons       18        5       10        2        1       1   0.4667   \n",
       "1  Ben Simmons       11        5       11        1        0       4   0.3636   \n",
       "2  Ben Simmons       18        8       10        0        0       3   0.4375   \n",
       "3  Ben Simmons       21       10       12        1        0       4   0.7273   \n",
       "4  Ben Simmons       14        9        7        3        1       4   0.4118   \n",
       "\n",
       "   playFTA  \n",
       "0        6  \n",
       "1        6  \n",
       "2        8  \n",
       "3        6  \n",
       "4        2  "
      ]
     },
     "execution_count": 10,
     "metadata": {},
     "output_type": "execute_result"
    }
   ],
   "source": [
    "set2.head()"
   ]
  },
  {
   "cell_type": "markdown",
   "metadata": {},
   "source": [
    "### Analysis of Dataset "
   ]
  },
  {
   "cell_type": "markdown",
   "metadata": {},
   "source": [
    "We'll make some initial comparisons of the chosen players. "
   ]
  },
  {
   "cell_type": "markdown",
   "metadata": {},
   "source": [
    "First, how many games has each played?"
   ]
  },
  {
   "cell_type": "code",
   "execution_count": 11,
   "metadata": {},
   "outputs": [
    {
     "data": {
      "text/plain": [
       "Text(0.5, 1.0, 'Games Played by Each Player')"
      ]
     },
     "execution_count": 11,
     "metadata": {},
     "output_type": "execute_result"
    },
    {
     "data": {
      "image/png": "[encoded data removed]",
      "text/plain": [
       "<Figure size 432x288 with 1 Axes>"
      ]
     },
     "metadata": {
      "needs_background": "light"
     },
     "output_type": "display_data"
    }
   ],
   "source": [
    "# A look at the games played by the players\n",
    "\n",
    "games_played = [set2.loc[set2['playDispNm']==name].shape[0] for name in players]\n",
    "\n",
    "\n",
    "fig = plt.figure()\n",
    "ax = fig.add_axes([0,0,1,1])\n",
    "ax.bar(players,games_played)\n",
    "ax.set_ylabel('Games Played')\n",
    "ax.set_title('Games Played by Each Player')\n",
    "    "
   ]
  },
  {
   "cell_type": "markdown",
   "metadata": {},
   "source": [
    "Now, we'll tabulate their season averages"
   ]
  },
  {
   "cell_type": "code",
   "execution_count": 12,
   "metadata": {},
   "outputs": [],
   "source": [
    "vars1.remove('playDispNm')"
   ]
  },
  {
   "cell_type": "code",
   "execution_count": 13,
   "metadata": {},
   "outputs": [
    {
     "data": {
      "text/html": [
       "<div>\n",
       "<style scoped>\n",
       "    .dataframe tbody tr th:only-of-type {\n",
       "        vertical-align: middle;\n",
       "    }\n",
       "\n",
       "    .dataframe tbody tr th {\n",
       "        vertical-align: top;\n",
       "    }\n",
       "\n",
       "    .dataframe thead th {\n",
       "        text-align: right;\n",
       "    }\n",
       "</style>\n",
       "<table border=\"1\" class=\"dataframe\">\n",
       "  <thead>\n",
       "    <tr style=\"text-align: right;\">\n",
       "      <th></th>\n",
       "      <th>Ben Simmons</th>\n",
       "      <th>Clint Capela</th>\n",
       "      <th>Kyrie Irving</th>\n",
       "    </tr>\n",
       "  </thead>\n",
       "  <tbody>\n",
       "    <tr>\n",
       "      <td>playPTS</td>\n",
       "      <td>15.790123</td>\n",
       "      <td>13.864865</td>\n",
       "      <td>24.433333</td>\n",
       "    </tr>\n",
       "    <tr>\n",
       "      <td>playAST</td>\n",
       "      <td>8.148148</td>\n",
       "      <td>0.918919</td>\n",
       "      <td>5.100000</td>\n",
       "    </tr>\n",
       "    <tr>\n",
       "      <td>playTRB</td>\n",
       "      <td>8.148148</td>\n",
       "      <td>10.837838</td>\n",
       "      <td>3.783333</td>\n",
       "    </tr>\n",
       "    <tr>\n",
       "      <td>playSTL</td>\n",
       "      <td>1.740741</td>\n",
       "      <td>0.770270</td>\n",
       "      <td>1.083333</td>\n",
       "    </tr>\n",
       "    <tr>\n",
       "      <td>playBLK</td>\n",
       "      <td>0.839506</td>\n",
       "      <td>1.864865</td>\n",
       "      <td>0.283333</td>\n",
       "    </tr>\n",
       "    <tr>\n",
       "      <td>playTO</td>\n",
       "      <td>3.432099</td>\n",
       "      <td>1.405405</td>\n",
       "      <td>2.316667</td>\n",
       "    </tr>\n",
       "    <tr>\n",
       "      <td>playFG%</td>\n",
       "      <td>0.551230</td>\n",
       "      <td>0.654964</td>\n",
       "      <td>0.485183</td>\n",
       "    </tr>\n",
       "    <tr>\n",
       "      <td>playFTA</td>\n",
       "      <td>4.209877</td>\n",
       "      <td>3.472973</td>\n",
       "      <td>4.350000</td>\n",
       "    </tr>\n",
       "  </tbody>\n",
       "</table>\n",
       "</div>"
      ],
      "text/plain": [
       "         Ben Simmons  Clint Capela  Kyrie Irving\n",
       "playPTS    15.790123     13.864865     24.433333\n",
       "playAST     8.148148      0.918919      5.100000\n",
       "playTRB     8.148148     10.837838      3.783333\n",
       "playSTL     1.740741      0.770270      1.083333\n",
       "playBLK     0.839506      1.864865      0.283333\n",
       "playTO      3.432099      1.405405      2.316667\n",
       "playFG%     0.551230      0.654964      0.485183\n",
       "playFTA     4.209877      3.472973      4.350000"
      ]
     },
     "execution_count": 13,
     "metadata": {},
     "output_type": "execute_result"
    }
   ],
   "source": [
    "# Compare season averages of each player\n",
    "\n",
    "avgs1 = set2.loc[(set2['playDispNm']==players[0])].drop('playDispNm', axis=1)\n",
    "\n",
    "df3 = pd.DataFrame(avgs1.mean(), index=None, columns = [players[0]])\n",
    "\n",
    "for name in players[1:]:\n",
    "    avgs = set2.loc[(set2['playDispNm']==name)].drop('playDispNm', axis=1)\n",
    "    df3[name] = pd.DataFrame(avgs.mean())\n",
    "\n",
    "df3"
   ]
  },
  {
   "cell_type": "markdown",
   "metadata": {},
   "source": [
    "We can see that the three players in *players_1* differ significantly in their averages of almost every category. This bodes well for the classification models."
   ]
  },
  {
   "cell_type": "markdown",
   "metadata": {},
   "source": [
    "Continuing with the data processsing we'll assign playFG% to bins from 0-5, and make a dataframe detailing the bins for reference."
   ]
  },
  {
   "cell_type": "code",
   "execution_count": 14,
   "metadata": {},
   "outputs": [],
   "source": [
    "set3 = set2"
   ]
  },
  {
   "cell_type": "code",
   "execution_count": 15,
   "metadata": {},
   "outputs": [
    {
     "data": {
      "text/html": [
       "<div>\n",
       "<style scoped>\n",
       "    .dataframe tbody tr th:only-of-type {\n",
       "        vertical-align: middle;\n",
       "    }\n",
       "\n",
       "    .dataframe tbody tr th {\n",
       "        vertical-align: top;\n",
       "    }\n",
       "\n",
       "    .dataframe thead th {\n",
       "        text-align: right;\n",
       "    }\n",
       "</style>\n",
       "<table border=\"1\" class=\"dataframe\">\n",
       "  <thead>\n",
       "    <tr style=\"text-align: right;\">\n",
       "      <th></th>\n",
       "      <th>playFG%</th>\n",
       "      <th>Bin</th>\n",
       "    </tr>\n",
       "  </thead>\n",
       "  <tbody>\n",
       "    <tr>\n",
       "      <td>0</td>\n",
       "      <td>0.0-0.3</td>\n",
       "      <td>0</td>\n",
       "    </tr>\n",
       "    <tr>\n",
       "      <td>1</td>\n",
       "      <td>0.3-0.4</td>\n",
       "      <td>1</td>\n",
       "    </tr>\n",
       "    <tr>\n",
       "      <td>2</td>\n",
       "      <td>0.4-0.5</td>\n",
       "      <td>2</td>\n",
       "    </tr>\n",
       "    <tr>\n",
       "      <td>3</td>\n",
       "      <td>0.5-0.6</td>\n",
       "      <td>3</td>\n",
       "    </tr>\n",
       "    <tr>\n",
       "      <td>4</td>\n",
       "      <td>0.6-0.75</td>\n",
       "      <td>4</td>\n",
       "    </tr>\n",
       "    <tr>\n",
       "      <td>5</td>\n",
       "      <td>0.75-1.0</td>\n",
       "      <td>5</td>\n",
       "    </tr>\n",
       "  </tbody>\n",
       "</table>\n",
       "</div>"
      ],
      "text/plain": [
       "    playFG%  Bin\n",
       "0   0.0-0.3    0\n",
       "1   0.3-0.4    1\n",
       "2   0.4-0.5    2\n",
       "3   0.5-0.6    3\n",
       "4  0.6-0.75    4\n",
       "5  0.75-1.0    5"
      ]
     },
     "execution_count": 15,
     "metadata": {},
     "output_type": "execute_result"
    }
   ],
   "source": [
    "bins = [-0.1, 0.3, 0.4, 0.5, 0.6, 0.75, 1.0]\n",
    "labels = [n for n in range(len(bins)-1)]\n",
    "\n",
    "set3['playFG%'] = pd.cut(set3[\"playFG%\"], bins, labels = labels)\n",
    "\n",
    "# Make dataframe containing FG% bins and labels\n",
    "bins_df = pd.DataFrame({\n",
    "    'playFG%': ['0.0-0.3', '0.3-0.4', '0.4-0.5', '0.5-0.6', '0.6-0.75', '0.75-1.0'],\n",
    "    'Bin': labels})\n",
    "\n",
    "bins_df"
   ]
  },
  {
   "cell_type": "markdown",
   "metadata": {},
   "source": [
    "Next, we assign an integer value to each player name. Then we'll make another dataframe containing only the player names and their code for reference."
   ]
  },
  {
   "cell_type": "code",
   "execution_count": 16,
   "metadata": {},
   "outputs": [
    {
     "data": {
      "text/html": [
       "<div>\n",
       "<style scoped>\n",
       "    .dataframe tbody tr th:only-of-type {\n",
       "        vertical-align: middle;\n",
       "    }\n",
       "\n",
       "    .dataframe tbody tr th {\n",
       "        vertical-align: top;\n",
       "    }\n",
       "\n",
       "    .dataframe thead th {\n",
       "        text-align: right;\n",
       "    }\n",
       "</style>\n",
       "<table border=\"1\" class=\"dataframe\">\n",
       "  <thead>\n",
       "    <tr style=\"text-align: right;\">\n",
       "      <th></th>\n",
       "      <th>playDispNm</th>\n",
       "      <th>playCode</th>\n",
       "    </tr>\n",
       "  </thead>\n",
       "  <tbody>\n",
       "    <tr>\n",
       "      <td>0</td>\n",
       "      <td>Ben Simmons</td>\n",
       "      <td>0</td>\n",
       "    </tr>\n",
       "    <tr>\n",
       "      <td>81</td>\n",
       "      <td>Clint Capela</td>\n",
       "      <td>1</td>\n",
       "    </tr>\n",
       "    <tr>\n",
       "      <td>155</td>\n",
       "      <td>Kyrie Irving</td>\n",
       "      <td>2</td>\n",
       "    </tr>\n",
       "  </tbody>\n",
       "</table>\n",
       "</div>"
      ],
      "text/plain": [
       "       playDispNm  playCode\n",
       "0     Ben Simmons         0\n",
       "81   Clint Capela         1\n",
       "155  Kyrie Irving         2"
      ]
     },
     "execution_count": 16,
     "metadata": {},
     "output_type": "execute_result"
    }
   ],
   "source": [
    "set3[\"playDispNm\"] = set3[\"playDispNm\"].astype('category')\n",
    "set3[\"playCode\"] = set3[\"playDispNm\"].cat.codes\n",
    "\n",
    "player_codes = set3[[\"playDispNm\",\"playCode\"]]\n",
    "player_codes.drop_duplicates(subset='playDispNm', keep='first', inplace=True)\n",
    "\n",
    "player_codes"
   ]
  },
  {
   "cell_type": "markdown",
   "metadata": {},
   "source": [
    "We can drop the playDispNm column, now that we have the code to identify players"
   ]
  },
  {
   "cell_type": "code",
   "execution_count": 17,
   "metadata": {},
   "outputs": [
    {
     "data": {
      "text/html": [
       "<div>\n",
       "<style scoped>\n",
       "    .dataframe tbody tr th:only-of-type {\n",
       "        vertical-align: middle;\n",
       "    }\n",
       "\n",
       "    .dataframe tbody tr th {\n",
       "        vertical-align: top;\n",
       "    }\n",
       "\n",
       "    .dataframe thead th {\n",
       "        text-align: right;\n",
       "    }\n",
       "</style>\n",
       "<table border=\"1\" class=\"dataframe\">\n",
       "  <thead>\n",
       "    <tr style=\"text-align: right;\">\n",
       "      <th></th>\n",
       "      <th>playPTS</th>\n",
       "      <th>playAST</th>\n",
       "      <th>playTRB</th>\n",
       "      <th>playSTL</th>\n",
       "      <th>playBLK</th>\n",
       "      <th>playTO</th>\n",
       "      <th>playFG%</th>\n",
       "      <th>playFTA</th>\n",
       "      <th>playCode</th>\n",
       "    </tr>\n",
       "  </thead>\n",
       "  <tbody>\n",
       "    <tr>\n",
       "      <td>0</td>\n",
       "      <td>18</td>\n",
       "      <td>5</td>\n",
       "      <td>10</td>\n",
       "      <td>2</td>\n",
       "      <td>1</td>\n",
       "      <td>1</td>\n",
       "      <td>2</td>\n",
       "      <td>6</td>\n",
       "      <td>0</td>\n",
       "    </tr>\n",
       "    <tr>\n",
       "      <td>1</td>\n",
       "      <td>11</td>\n",
       "      <td>5</td>\n",
       "      <td>11</td>\n",
       "      <td>1</td>\n",
       "      <td>0</td>\n",
       "      <td>4</td>\n",
       "      <td>1</td>\n",
       "      <td>6</td>\n",
       "      <td>0</td>\n",
       "    </tr>\n",
       "    <tr>\n",
       "      <td>2</td>\n",
       "      <td>18</td>\n",
       "      <td>8</td>\n",
       "      <td>10</td>\n",
       "      <td>0</td>\n",
       "      <td>0</td>\n",
       "      <td>3</td>\n",
       "      <td>2</td>\n",
       "      <td>8</td>\n",
       "      <td>0</td>\n",
       "    </tr>\n",
       "    <tr>\n",
       "      <td>3</td>\n",
       "      <td>21</td>\n",
       "      <td>10</td>\n",
       "      <td>12</td>\n",
       "      <td>1</td>\n",
       "      <td>0</td>\n",
       "      <td>4</td>\n",
       "      <td>4</td>\n",
       "      <td>6</td>\n",
       "      <td>0</td>\n",
       "    </tr>\n",
       "    <tr>\n",
       "      <td>4</td>\n",
       "      <td>14</td>\n",
       "      <td>9</td>\n",
       "      <td>7</td>\n",
       "      <td>3</td>\n",
       "      <td>1</td>\n",
       "      <td>4</td>\n",
       "      <td>2</td>\n",
       "      <td>2</td>\n",
       "      <td>0</td>\n",
       "    </tr>\n",
       "  </tbody>\n",
       "</table>\n",
       "</div>"
      ],
      "text/plain": [
       "   playPTS  playAST  playTRB  playSTL  playBLK  playTO playFG%  playFTA  \\\n",
       "0       18        5       10        2        1       1       2        6   \n",
       "1       11        5       11        1        0       4       1        6   \n",
       "2       18        8       10        0        0       3       2        8   \n",
       "3       21       10       12        1        0       4       4        6   \n",
       "4       14        9        7        3        1       4       2        2   \n",
       "\n",
       "   playCode  \n",
       "0         0  \n",
       "1         0  \n",
       "2         0  \n",
       "3         0  \n",
       "4         0  "
      ]
     },
     "execution_count": 17,
     "metadata": {},
     "output_type": "execute_result"
    }
   ],
   "source": [
    "set3.drop(['playDispNm'], axis=1, inplace=True)\n",
    "\n",
    "set3.head()"
   ]
  },
  {
   "cell_type": "markdown",
   "metadata": {
    "scrolled": true
   },
   "source": [
    "Finally, this is the dataframe we will use for classification"
   ]
  },
  {
   "cell_type": "markdown",
   "metadata": {},
   "source": [
    "### Splitting Data"
   ]
  },
  {
   "cell_type": "markdown",
   "metadata": {},
   "source": [
    "Next, the data must be split randomly into training and testing sets.\n",
    "\n",
    "The function *train_test_split* from the *scikit-learn* library will do this for us. We'll set the test size to *0.2*, thus splitting the data 80-20 between train and test.\n",
    "\n",
    "The predictor variables are all those in the dataset but for *playCode* which is the target variable that we are trying to predict."
   ]
  },
  {
   "cell_type": "code",
   "execution_count": 18,
   "metadata": {},
   "outputs": [],
   "source": [
    "from sklearn.model_selection import train_test_split\n",
    "\n",
    "predictors = set3.drop('playCode', axis=1)\n",
    "target = set3['playCode']\n",
    "\n",
    "x_train, x_test, y_train, y_test = train_test_split(predictors, target, test_size=0.2, random_state=0)"
   ]
  },
  {
   "cell_type": "code",
   "execution_count": 19,
   "metadata": {},
   "outputs": [
    {
     "data": {
      "text/plain": [
       "(215, 8)"
      ]
     },
     "execution_count": 19,
     "metadata": {},
     "output_type": "execute_result"
    }
   ],
   "source": [
    "predictors.shape"
   ]
  },
  {
   "cell_type": "markdown",
   "metadata": {},
   "source": [
    "---"
   ]
  },
  {
   "cell_type": "markdown",
   "metadata": {},
   "source": [
    "## Schemes"
   ]
  },
  {
   "cell_type": "markdown",
   "metadata": {},
   "source": [
    "### Support Vector Classification\n",
    "\n",
    "The first method we'll use to classify our data will be Support Vector Classification\n",
    "\n",
    "We'll import SVC from the scikit-learn library.\n",
    "\n",
    "We'll train the model on *x_train* and *y_train* and get a measure of its accuracy by implementing it on the test data, using *svc.score()*."
   ]
  },
  {
   "cell_type": "code",
   "execution_count": 20,
   "metadata": {},
   "outputs": [
    {
     "name": "stdout",
     "output_type": "stream",
     "text": [
      "79.07 %\n"
     ]
    },
    {
     "data": {
      "text/plain": [
       "array([[16.,  9.,  8., ...,  3.,  1.,  2.],\n",
       "       [12., 15., 13., ...,  4.,  2.,  2.],\n",
       "       [ 4.,  7.,  6., ...,  4.,  0.,  2.],\n",
       "       ...,\n",
       "       [21.,  4.,  6., ...,  0.,  1.,  4.],\n",
       "       [28.,  2.,  8., ...,  4.,  2.,  4.],\n",
       "       [23.,  3.,  1., ...,  1.,  2.,  4.]])"
      ]
     },
     "execution_count": 20,
     "metadata": {},
     "output_type": "execute_result"
    }
   ],
   "source": [
    "# Support Vector Classification\n",
    "\n",
    "from sklearn.svm import SVC\n",
    "\n",
    "svc = SVC()\n",
    "\n",
    "# Train the model on x_train, y_train\n",
    "svc.fit(x_train, y_train)\n",
    "\n",
    "# The model is now trained\n",
    "\n",
    "# Compare predicted values to actual to measure accuracy \n",
    "acc_svc = round(svc.score(x_test,y_test)*100, 2)\n",
    "print(acc_svc,'%')\n",
    "\n",
    "# support vectors\n",
    "svc.support_vectors_"
   ]
  },
  {
   "cell_type": "markdown",
   "metadata": {},
   "source": [
    "### Logistic Regression"
   ]
  },
  {
   "cell_type": "markdown",
   "metadata": {},
   "source": [
    "Now we'll try Logistic Regression.\n",
    "As before, we'll import LinearRegression from the scikit-learn library, trainthe model on the training data and test its accuracy on the test data."
   ]
  },
  {
   "cell_type": "code",
   "execution_count": 21,
   "metadata": {
    "scrolled": true
   },
   "outputs": [
    {
     "name": "stdout",
     "output_type": "stream",
     "text": [
      "93.02 %\n"
     ]
    }
   ],
   "source": [
    "# Logistic Regression\n",
    "from sklearn.linear_model import LogisticRegression\n",
    "\n",
    "logreg = LogisticRegression() # all parameters are set to defaults\n",
    "\n",
    "# Train the model on x_train, y_train\n",
    "logreg.fit(x_train, y_train)\n",
    "\n",
    "# The model is now trained\n",
    "\n",
    "# Compare predicted values to actual to measure accuracy \n",
    "acc_logreg = round(logreg.score(x_test,y_test)*100, 2)\n",
    "print(acc_logreg,'%')\n",
    "\n"
   ]
  },
  {
   "cell_type": "markdown",
   "metadata": {},
   "source": [
    "### Other Schemes\n",
    "\n",
    "We'll also quickly try the *Perceptron* and *Stochastic Gradient Descent* schemes from the sklearn library."
   ]
  },
  {
   "cell_type": "code",
   "execution_count": 22,
   "metadata": {},
   "outputs": [
    {
     "name": "stdout",
     "output_type": "stream",
     "text": [
      "86.05 %\n"
     ]
    }
   ],
   "source": [
    "# Perceptron\n",
    "from sklearn.linear_model import Perceptron\n",
    "\n",
    "perceptron = Perceptron()\n",
    "perceptron.fit(x_train, y_train)\n",
    "acc_perceptron = round(perceptron.score(x_test,y_test)*100, 2)\n",
    "print(acc_perceptron,'%')\n",
    "\n"
   ]
  },
  {
   "cell_type": "code",
   "execution_count": 23,
   "metadata": {},
   "outputs": [
    {
     "name": "stdout",
     "output_type": "stream",
     "text": [
      "88.37 %\n"
     ]
    }
   ],
   "source": [
    "# Stochastic Gradient Descent\n",
    "from sklearn.linear_model import SGDClassifier\n",
    "\n",
    "sgd = SGDClassifier()\n",
    "sgd.fit(x_train, y_train)\n",
    "acc_sgd = round(sgd.score(x_test, y_test)*100, 2)\n",
    "print(acc_sgd,'%')"
   ]
  },
  {
   "cell_type": "markdown",
   "metadata": {},
   "source": [
    "## Results"
   ]
  },
  {
   "cell_type": "markdown",
   "metadata": {},
   "source": [
    "Compare the accuracy of each model:"
   ]
  },
  {
   "cell_type": "code",
   "execution_count": 24,
   "metadata": {
    "scrolled": true
   },
   "outputs": [
    {
     "data": {
      "text/html": [
       "<div>\n",
       "<style scoped>\n",
       "    .dataframe tbody tr th:only-of-type {\n",
       "        vertical-align: middle;\n",
       "    }\n",
       "\n",
       "    .dataframe tbody tr th {\n",
       "        vertical-align: top;\n",
       "    }\n",
       "\n",
       "    .dataframe thead th {\n",
       "        text-align: right;\n",
       "    }\n",
       "</style>\n",
       "<table border=\"1\" class=\"dataframe\">\n",
       "  <thead>\n",
       "    <tr style=\"text-align: right;\">\n",
       "      <th></th>\n",
       "      <th>Model</th>\n",
       "      <th>Score</th>\n",
       "    </tr>\n",
       "  </thead>\n",
       "  <tbody>\n",
       "    <tr>\n",
       "      <td>1</td>\n",
       "      <td>Logistic Regression</td>\n",
       "      <td>93.02</td>\n",
       "    </tr>\n",
       "    <tr>\n",
       "      <td>3</td>\n",
       "      <td>Stochastic Gradient Descent</td>\n",
       "      <td>88.37</td>\n",
       "    </tr>\n",
       "    <tr>\n",
       "      <td>2</td>\n",
       "      <td>Perceptron</td>\n",
       "      <td>86.05</td>\n",
       "    </tr>\n",
       "    <tr>\n",
       "      <td>0</td>\n",
       "      <td>Support Vector Machines</td>\n",
       "      <td>79.07</td>\n",
       "    </tr>\n",
       "  </tbody>\n",
       "</table>\n",
       "</div>"
      ],
      "text/plain": [
       "                         Model  Score\n",
       "1          Logistic Regression  93.02\n",
       "3  Stochastic Gradient Descent  88.37\n",
       "2                   Perceptron  86.05\n",
       "0      Support Vector Machines  79.07"
      ]
     },
     "execution_count": 24,
     "metadata": {},
     "output_type": "execute_result"
    }
   ],
   "source": [
    "compare = pd.DataFrame({'Model': ['Support Vector Machines', 'Logistic Regression', 'Perceptron', 'Stochastic Gradient Descent'],\n",
    "                       'Score': [acc_svc, acc_logreg, acc_perceptron, acc_sgd]})\n",
    "compare.sort_values(by='Score', ascending=False)"
   ]
  },
  {
   "cell_type": "markdown",
   "metadata": {},
   "source": [
    "## Input Our Own Statline\n",
    "\n",
    "We'll make up a statline and see which of our players the logistic regression model thinks it's most likely to belong to.\n",
    "\n",
    "You'll be asked to enter values for each variable. \n",
    "\n",
    "**Recall the bins for FG% range from 0-5 as follows:**"
   ]
  },
  {
   "cell_type": "code",
   "execution_count": 25,
   "metadata": {},
   "outputs": [
    {
     "data": {
      "text/html": [
       "<div>\n",
       "<style scoped>\n",
       "    .dataframe tbody tr th:only-of-type {\n",
       "        vertical-align: middle;\n",
       "    }\n",
       "\n",
       "    .dataframe tbody tr th {\n",
       "        vertical-align: top;\n",
       "    }\n",
       "\n",
       "    .dataframe thead th {\n",
       "        text-align: right;\n",
       "    }\n",
       "</style>\n",
       "<table border=\"1\" class=\"dataframe\">\n",
       "  <thead>\n",
       "    <tr style=\"text-align: right;\">\n",
       "      <th></th>\n",
       "      <th>playFG%</th>\n",
       "      <th>Bin</th>\n",
       "    </tr>\n",
       "  </thead>\n",
       "  <tbody>\n",
       "    <tr>\n",
       "      <td>0</td>\n",
       "      <td>0.0-0.3</td>\n",
       "      <td>0</td>\n",
       "    </tr>\n",
       "    <tr>\n",
       "      <td>1</td>\n",
       "      <td>0.3-0.4</td>\n",
       "      <td>1</td>\n",
       "    </tr>\n",
       "    <tr>\n",
       "      <td>2</td>\n",
       "      <td>0.4-0.5</td>\n",
       "      <td>2</td>\n",
       "    </tr>\n",
       "    <tr>\n",
       "      <td>3</td>\n",
       "      <td>0.5-0.6</td>\n",
       "      <td>3</td>\n",
       "    </tr>\n",
       "    <tr>\n",
       "      <td>4</td>\n",
       "      <td>0.6-0.75</td>\n",
       "      <td>4</td>\n",
       "    </tr>\n",
       "    <tr>\n",
       "      <td>5</td>\n",
       "      <td>0.75-1.0</td>\n",
       "      <td>5</td>\n",
       "    </tr>\n",
       "  </tbody>\n",
       "</table>\n",
       "</div>"
      ],
      "text/plain": [
       "    playFG%  Bin\n",
       "0   0.0-0.3    0\n",
       "1   0.3-0.4    1\n",
       "2   0.4-0.5    2\n",
       "3   0.5-0.6    3\n",
       "4  0.6-0.75    4\n",
       "5  0.75-1.0    5"
      ]
     },
     "execution_count": 25,
     "metadata": {},
     "output_type": "execute_result"
    }
   ],
   "source": [
    "bins_df"
   ]
  },
  {
   "cell_type": "code",
   "execution_count": 26,
   "metadata": {
    "scrolled": true
   },
   "outputs": [],
   "source": [
    "columns = ['playPTS', 'playAST', 'playTRB', 'playSTL', 'playBLK', 'playTO', 'playFG%', 'playFTA']\n",
    "\n",
    "boxscore = np.transpose([[0],[0],[0],[0],[0],[0],[0],[0]])"
   ]
  },
  {
   "cell_type": "code",
   "execution_count": 27,
   "metadata": {},
   "outputs": [
    {
     "name": "stdout",
     "output_type": "stream",
     "text": [
      "playPTS: 5\n",
      "playAST: 5\n",
      "playTRB: 5\n",
      "playSTL: 5\n",
      "playBLK: 5\n",
      "playTO: 5\n",
      "playFG%: 5\n",
      "playFTA: 5\n"
     ]
    }
   ],
   "source": [
    "for i in range(len(columns)):\n",
    "    boxscore[0][i] = np.transpose([input((str(columns[i]) + \": \"))])\n",
    "    \n",
    "df = pd.DataFrame(boxscore, columns = columns)"
   ]
  },
  {
   "cell_type": "code",
   "execution_count": 28,
   "metadata": {
    "scrolled": true
   },
   "outputs": [
    {
     "name": "stdout",
     "output_type": "stream",
     "text": [
      "   playPTS  playAST  playTRB  playSTL  playBLK  playTO  playFG%  playFTA\n",
      "0        5        5        5        5        5       5        5        5\n",
      "[Ben Simmons]\n",
      "Categories (3, object): [Ben Simmons, Clint Capela, Kyrie Irving]\n"
     ]
    }
   ],
   "source": [
    "prediction = int(logreg.predict(df))\n",
    "\n",
    "# output player name\n",
    "\n",
    "output = player_codes.loc[player_codes['playCode'] == prediction]['playDispNm']\n",
    "\n",
    "\n",
    "print(df)\n",
    "print(output.values)"
   ]
  },
  {
   "cell_type": "markdown",
   "metadata": {},
   "source": [
    "---\n",
    "---\n",
    "---"
   ]
  },
  {
   "cell_type": "markdown",
   "metadata": {},
   "source": [
    "## Again, With Different Players\n",
    "\n",
    "That worked well for those particular players, but now let's see how accurate the models will be for the other list of players, *players_2*"
   ]
  },
  {
   "cell_type": "code",
   "execution_count": 29,
   "metadata": {},
   "outputs": [],
   "source": [
    "players_2 = ['Anthony Davis', 'Damian Lillard', 'James Harden', 'Kevin Durant', 'LeBron James']\n",
    "players=players_2"
   ]
  },
  {
   "cell_type": "code",
   "execution_count": 30,
   "metadata": {},
   "outputs": [],
   "source": [
    "# initialise with rows belonging to the first player in the list\n",
    "set2 = set1.loc[(set1['playDispNm']==players[0])]\n",
    " \n",
    "# append on rows belonging to the other players    \n",
    "for name in players[1:]:\n",
    "    set2 = set2.append(set1.loc[(set1['playDispNm']==name)], ignore_index=True)"
   ]
  },
  {
   "cell_type": "code",
   "execution_count": 31,
   "metadata": {},
   "outputs": [
    {
     "data": {
      "text/plain": [
       "Text(0.5, 1.0, 'Games Played by Each Player')"
      ]
     },
     "execution_count": 31,
     "metadata": {},
     "output_type": "execute_result"
    },
    {
     "data": {
      "image/png": "[encoded data removed]",
      "text/plain": [
       "<Figure size 432x288 with 1 Axes>"
      ]
     },
     "metadata": {
      "needs_background": "light"
     },
     "output_type": "display_data"
    }
   ],
   "source": [
    "# A look at the games played by the players\n",
    "\n",
    "games_played = [set2.loc[set2['playDispNm']==name].shape[0] for name in players]\n",
    "\n",
    "\n",
    "fig = plt.figure()\n",
    "ax = fig.add_axes([0,0,1,1])\n",
    "ax.bar(players,games_played)\n",
    "ax.set_ylabel('Games Played')\n",
    "ax.set_title('Games Played by Each Player')"
   ]
  },
  {
   "cell_type": "code",
   "execution_count": 32,
   "metadata": {
    "scrolled": true
   },
   "outputs": [
    {
     "data": {
      "text/html": [
       "<div>\n",
       "<style scoped>\n",
       "    .dataframe tbody tr th:only-of-type {\n",
       "        vertical-align: middle;\n",
       "    }\n",
       "\n",
       "    .dataframe tbody tr th {\n",
       "        vertical-align: top;\n",
       "    }\n",
       "\n",
       "    .dataframe thead th {\n",
       "        text-align: right;\n",
       "    }\n",
       "</style>\n",
       "<table border=\"1\" class=\"dataframe\">\n",
       "  <thead>\n",
       "    <tr style=\"text-align: right;\">\n",
       "      <th></th>\n",
       "      <th>Anthony Davis</th>\n",
       "      <th>Damian Lillard</th>\n",
       "      <th>James Harden</th>\n",
       "      <th>Kevin Durant</th>\n",
       "      <th>LeBron James</th>\n",
       "    </tr>\n",
       "  </thead>\n",
       "  <tbody>\n",
       "    <tr>\n",
       "      <td>playPTS</td>\n",
       "      <td>28.133333</td>\n",
       "      <td>26.876712</td>\n",
       "      <td>30.430556</td>\n",
       "      <td>26.352941</td>\n",
       "      <td>27.451220</td>\n",
       "    </tr>\n",
       "    <tr>\n",
       "      <td>playAST</td>\n",
       "      <td>2.333333</td>\n",
       "      <td>6.589041</td>\n",
       "      <td>8.736111</td>\n",
       "      <td>5.382353</td>\n",
       "      <td>9.085366</td>\n",
       "    </tr>\n",
       "    <tr>\n",
       "      <td>playTRB</td>\n",
       "      <td>11.120000</td>\n",
       "      <td>4.452055</td>\n",
       "      <td>5.375000</td>\n",
       "      <td>6.838235</td>\n",
       "      <td>8.682927</td>\n",
       "    </tr>\n",
       "    <tr>\n",
       "      <td>playSTL</td>\n",
       "      <td>1.533333</td>\n",
       "      <td>1.068493</td>\n",
       "      <td>1.750000</td>\n",
       "      <td>0.735294</td>\n",
       "      <td>1.426829</td>\n",
       "    </tr>\n",
       "    <tr>\n",
       "      <td>playBLK</td>\n",
       "      <td>2.560000</td>\n",
       "      <td>0.369863</td>\n",
       "      <td>0.694444</td>\n",
       "      <td>1.750000</td>\n",
       "      <td>0.865854</td>\n",
       "    </tr>\n",
       "    <tr>\n",
       "      <td>playTO</td>\n",
       "      <td>2.160000</td>\n",
       "      <td>2.808219</td>\n",
       "      <td>4.375000</td>\n",
       "      <td>3.058824</td>\n",
       "      <td>4.243902</td>\n",
       "    </tr>\n",
       "    <tr>\n",
       "      <td>playFG%</td>\n",
       "      <td>0.537844</td>\n",
       "      <td>0.436673</td>\n",
       "      <td>0.447806</td>\n",
       "      <td>0.523874</td>\n",
       "      <td>0.541089</td>\n",
       "    </tr>\n",
       "    <tr>\n",
       "      <td>playFTA</td>\n",
       "      <td>7.973333</td>\n",
       "      <td>7.369863</td>\n",
       "      <td>10.097222</td>\n",
       "      <td>5.941176</td>\n",
       "      <td>6.475610</td>\n",
       "    </tr>\n",
       "  </tbody>\n",
       "</table>\n",
       "</div>"
      ],
      "text/plain": [
       "         Anthony Davis  Damian Lillard  James Harden  Kevin Durant  \\\n",
       "playPTS      28.133333       26.876712     30.430556     26.352941   \n",
       "playAST       2.333333        6.589041      8.736111      5.382353   \n",
       "playTRB      11.120000        4.452055      5.375000      6.838235   \n",
       "playSTL       1.533333        1.068493      1.750000      0.735294   \n",
       "playBLK       2.560000        0.369863      0.694444      1.750000   \n",
       "playTO        2.160000        2.808219      4.375000      3.058824   \n",
       "playFG%       0.537844        0.436673      0.447806      0.523874   \n",
       "playFTA       7.973333        7.369863     10.097222      5.941176   \n",
       "\n",
       "         LeBron James  \n",
       "playPTS     27.451220  \n",
       "playAST      9.085366  \n",
       "playTRB      8.682927  \n",
       "playSTL      1.426829  \n",
       "playBLK      0.865854  \n",
       "playTO       4.243902  \n",
       "playFG%      0.541089  \n",
       "playFTA      6.475610  "
      ]
     },
     "execution_count": 32,
     "metadata": {},
     "output_type": "execute_result"
    }
   ],
   "source": [
    "# Compare season averages of each player\n",
    "\n",
    "avgs1 = set2.loc[(set2['playDispNm']==players[0])].drop('playDispNm', axis=1)\n",
    "\n",
    "df3 = pd.DataFrame(avgs1.mean(), index=None, columns = [players[0]])\n",
    "\n",
    "for name in players[1:]:\n",
    "    avgs = set2.loc[(set2['playDispNm']==name)].drop('playDispNm', axis=1)\n",
    "    df3[name] = pd.DataFrame(avgs.mean())\n",
    "\n",
    "df3"
   ]
  },
  {
   "cell_type": "markdown",
   "metadata": {},
   "source": [
    "This time it's evident that it'll be harder to classify the players."
   ]
  },
  {
   "cell_type": "markdown",
   "metadata": {},
   "source": [
    "---"
   ]
  },
  {
   "cell_type": "code",
   "execution_count": 33,
   "metadata": {},
   "outputs": [],
   "source": [
    "set3 = set2"
   ]
  },
  {
   "cell_type": "code",
   "execution_count": 34,
   "metadata": {},
   "outputs": [],
   "source": [
    "bins = [-0.1, 0.3, 0.4, 0.5, 0.6, 0.75, 1.0]\n",
    "labels = [n for n in range(len(bins)-1)]\n",
    "\n",
    "set3['playFG%'] = pd.cut(set3[\"playFG%\"], bins, labels = labels)\n",
    "\n",
    "# Make dataframe containing FG% bins and labels\n",
    "bins_df = pd.DataFrame({\n",
    "    'playFG%': ['0.0-0.3', '0.3-0.4', '0.4-0.5', '0.5-0.6', '0.6-0.75', '0.75-1.0'],\n",
    "    'Bin': labels})\n"
   ]
  },
  {
   "cell_type": "code",
   "execution_count": 35,
   "metadata": {},
   "outputs": [
    {
     "data": {
      "text/html": [
       "<div>\n",
       "<style scoped>\n",
       "    .dataframe tbody tr th:only-of-type {\n",
       "        vertical-align: middle;\n",
       "    }\n",
       "\n",
       "    .dataframe tbody tr th {\n",
       "        vertical-align: top;\n",
       "    }\n",
       "\n",
       "    .dataframe thead th {\n",
       "        text-align: right;\n",
       "    }\n",
       "</style>\n",
       "<table border=\"1\" class=\"dataframe\">\n",
       "  <thead>\n",
       "    <tr style=\"text-align: right;\">\n",
       "      <th></th>\n",
       "      <th>playDispNm</th>\n",
       "      <th>playCode</th>\n",
       "    </tr>\n",
       "  </thead>\n",
       "  <tbody>\n",
       "    <tr>\n",
       "      <td>0</td>\n",
       "      <td>Anthony Davis</td>\n",
       "      <td>0</td>\n",
       "    </tr>\n",
       "    <tr>\n",
       "      <td>75</td>\n",
       "      <td>Damian Lillard</td>\n",
       "      <td>1</td>\n",
       "    </tr>\n",
       "    <tr>\n",
       "      <td>148</td>\n",
       "      <td>James Harden</td>\n",
       "      <td>2</td>\n",
       "    </tr>\n",
       "    <tr>\n",
       "      <td>220</td>\n",
       "      <td>Kevin Durant</td>\n",
       "      <td>3</td>\n",
       "    </tr>\n",
       "    <tr>\n",
       "      <td>288</td>\n",
       "      <td>LeBron James</td>\n",
       "      <td>4</td>\n",
       "    </tr>\n",
       "  </tbody>\n",
       "</table>\n",
       "</div>"
      ],
      "text/plain": [
       "         playDispNm  playCode\n",
       "0     Anthony Davis         0\n",
       "75   Damian Lillard         1\n",
       "148    James Harden         2\n",
       "220    Kevin Durant         3\n",
       "288    LeBron James         4"
      ]
     },
     "execution_count": 35,
     "metadata": {},
     "output_type": "execute_result"
    }
   ],
   "source": [
    "set3[\"playDispNm\"] = set3[\"playDispNm\"].astype('category')\n",
    "set3[\"playCode\"] = set3[\"playDispNm\"].cat.codes\n",
    "\n",
    "player_codes = set3[[\"playDispNm\",\"playCode\"]]\n",
    "player_codes.drop_duplicates(subset='playDispNm', keep='first', inplace=True)\n",
    "\n",
    "player_codes"
   ]
  },
  {
   "cell_type": "markdown",
   "metadata": {},
   "source": [
    "We can drop the playDispNm column, now that we have the code to identify players"
   ]
  },
  {
   "cell_type": "code",
   "execution_count": 36,
   "metadata": {},
   "outputs": [],
   "source": [
    "set3.drop(['playDispNm'], axis=1, inplace=True)"
   ]
  },
  {
   "cell_type": "markdown",
   "metadata": {},
   "source": [
    "### Splitting Data"
   ]
  },
  {
   "cell_type": "code",
   "execution_count": 37,
   "metadata": {},
   "outputs": [],
   "source": [
    "from sklearn.model_selection import train_test_split\n",
    "\n",
    "predictors = set3.drop('playCode', axis=1)\n",
    "target = set3['playCode']\n",
    "\n",
    "x_train, x_test, y_train, y_test = train_test_split(predictors, target, test_size=0.2, random_state=1)"
   ]
  },
  {
   "cell_type": "code",
   "execution_count": 38,
   "metadata": {},
   "outputs": [
    {
     "data": {
      "text/plain": [
       "(370, 8)"
      ]
     },
     "execution_count": 38,
     "metadata": {},
     "output_type": "execute_result"
    }
   ],
   "source": [
    "predictors.shape"
   ]
  },
  {
   "cell_type": "markdown",
   "metadata": {},
   "source": [
    "## Schemes"
   ]
  },
  {
   "cell_type": "code",
   "execution_count": 39,
   "metadata": {},
   "outputs": [
    {
     "name": "stdout",
     "output_type": "stream",
     "text": [
      "44.59 %\n"
     ]
    },
    {
     "data": {
      "text/plain": [
       "array([[17.,  3.,  6., ...,  1.,  2.,  8.],\n",
       "       [28.,  2.,  6., ...,  1.,  2.,  7.],\n",
       "       [34.,  5.,  9., ...,  2.,  4.,  8.],\n",
       "       ...,\n",
       "       [29., 10., 11., ...,  5.,  3., 10.],\n",
       "       [39.,  7.,  1., ...,  7.,  4.,  5.],\n",
       "       [25., 14.,  8., ...,  3.,  3.,  9.]])"
      ]
     },
     "execution_count": 39,
     "metadata": {},
     "output_type": "execute_result"
    }
   ],
   "source": [
    "# Support Vector Classification\n",
    "\n",
    "from sklearn.svm import SVC\n",
    "\n",
    "svc = SVC()\n",
    "\n",
    "# Train the model on x_train, y_train\n",
    "svc.fit(x_train, y_train)\n",
    "\n",
    "# The model is now trained\n",
    "\n",
    "# Compare predicted values to actual to measure accuracy \n",
    "acc_svc = round(svc.score(x_test,y_test)*100, 2)\n",
    "print(acc_svc,'%')\n",
    "\n",
    "# support vectors\n",
    "svc.support_vectors_"
   ]
  },
  {
   "cell_type": "markdown",
   "metadata": {},
   "source": [
    "### Logistic Regression"
   ]
  },
  {
   "cell_type": "markdown",
   "metadata": {},
   "source": [
    "Now we'll try Logistic Regression.\n",
    "As before, we'll import LinearRegression from the scikit-learn library, train the model on the training data and test its accuracy on the test data."
   ]
  },
  {
   "cell_type": "code",
   "execution_count": 40,
   "metadata": {
    "scrolled": true
   },
   "outputs": [
    {
     "name": "stdout",
     "output_type": "stream",
     "text": [
      "71.62 %\n"
     ]
    }
   ],
   "source": [
    "# Logistic Regression\n",
    "from sklearn.linear_model import LogisticRegression\n",
    "\n",
    "logreg = LogisticRegression() # all parameters are set to defaults\n",
    "\n",
    "# Train the model on x_train, y_train\n",
    "logreg.fit(x_train, y_train)\n",
    "\n",
    "# The model is now trained\n",
    "\n",
    "# Compare predicted values to actual to measure accuracy \n",
    "acc_logreg = round(logreg.score(x_test,y_test)*100, 2)\n",
    "print(acc_logreg,'%')\n",
    "\n"
   ]
  },
  {
   "cell_type": "markdown",
   "metadata": {},
   "source": [
    "### Other Schemes\n",
    "\n",
    "We'll also quickly try the *Perceptron* and *Stochastic Gradient Descent* schemes from the sklearn library."
   ]
  },
  {
   "cell_type": "code",
   "execution_count": 41,
   "metadata": {},
   "outputs": [
    {
     "name": "stdout",
     "output_type": "stream",
     "text": [
      "51.35 %\n"
     ]
    }
   ],
   "source": [
    "# Perceptron\n",
    "from sklearn.linear_model import Perceptron\n",
    "\n",
    "perceptron = Perceptron()\n",
    "perceptron.fit(x_train, y_train)\n",
    "acc_perceptron = round(perceptron.score(x_test,y_test)*100, 2)\n",
    "print(acc_perceptron,'%')\n",
    "\n"
   ]
  },
  {
   "cell_type": "code",
   "execution_count": 42,
   "metadata": {},
   "outputs": [
    {
     "name": "stdout",
     "output_type": "stream",
     "text": [
      "50.0 %\n"
     ]
    }
   ],
   "source": [
    "# Stochastic Gradient Descent\n",
    "from sklearn.linear_model import SGDClassifier\n",
    "\n",
    "sgd = SGDClassifier()\n",
    "sgd.fit(x_train, y_train)\n",
    "acc_sgd = round(sgd.score(x_test, y_test)*100, 2)\n",
    "print(acc_sgd,'%')"
   ]
  },
  {
   "cell_type": "markdown",
   "metadata": {},
   "source": [
    "## Results"
   ]
  },
  {
   "cell_type": "markdown",
   "metadata": {},
   "source": [
    "Compare the accuracy of each model:"
   ]
  },
  {
   "cell_type": "code",
   "execution_count": 43,
   "metadata": {
    "scrolled": true
   },
   "outputs": [
    {
     "data": {
      "text/html": [
       "<div>\n",
       "<style scoped>\n",
       "    .dataframe tbody tr th:only-of-type {\n",
       "        vertical-align: middle;\n",
       "    }\n",
       "\n",
       "    .dataframe tbody tr th {\n",
       "        vertical-align: top;\n",
       "    }\n",
       "\n",
       "    .dataframe thead th {\n",
       "        text-align: right;\n",
       "    }\n",
       "</style>\n",
       "<table border=\"1\" class=\"dataframe\">\n",
       "  <thead>\n",
       "    <tr style=\"text-align: right;\">\n",
       "      <th></th>\n",
       "      <th>Model</th>\n",
       "      <th>Score</th>\n",
       "    </tr>\n",
       "  </thead>\n",
       "  <tbody>\n",
       "    <tr>\n",
       "      <td>1</td>\n",
       "      <td>Logistic Regression</td>\n",
       "      <td>71.62</td>\n",
       "    </tr>\n",
       "    <tr>\n",
       "      <td>2</td>\n",
       "      <td>Perceptron</td>\n",
       "      <td>51.35</td>\n",
       "    </tr>\n",
       "    <tr>\n",
       "      <td>3</td>\n",
       "      <td>Stochastic Gradient Descent</td>\n",
       "      <td>50.00</td>\n",
       "    </tr>\n",
       "    <tr>\n",
       "      <td>0</td>\n",
       "      <td>Support Vector Machines</td>\n",
       "      <td>44.59</td>\n",
       "    </tr>\n",
       "  </tbody>\n",
       "</table>\n",
       "</div>"
      ],
      "text/plain": [
       "                         Model  Score\n",
       "1          Logistic Regression  71.62\n",
       "2                   Perceptron  51.35\n",
       "3  Stochastic Gradient Descent  50.00\n",
       "0      Support Vector Machines  44.59"
      ]
     },
     "execution_count": 43,
     "metadata": {},
     "output_type": "execute_result"
    }
   ],
   "source": [
    "compare = pd.DataFrame({'Model': ['Support Vector Machines', 'Logistic Regression', 'Perceptron', 'Stochastic Gradient Descent'],\n",
    "                       'Score': [acc_svc, acc_logreg, acc_perceptron, acc_sgd]})\n",
    "compare.sort_values(by='Score', ascending=False)"
   ]
  },
  {
   "cell_type": "markdown",
   "metadata": {},
   "source": [
    "As expected, the accuracy of the models is significantly lower for the second list of players."
   ]
  },
  {
   "cell_type": "markdown",
   "metadata": {},
   "source": [
    "---"
   ]
  },
  {
   "cell_type": "markdown",
   "metadata": {},
   "source": [
    "# Conclusion\n",
    "\n"
   ]
  },
  {
   "cell_type": "markdown",
   "metadata": {},
   "source": [
    "As was to be expected, the models were more accurate at classifying players from the first list than the second.\n",
    "\n",
    "For each set of players, the ranking of models in terms of accuracy was the same, ith logistic regression leading the way.\n",
    "\n",
    "The models could become more accurate with the inclusion of other variables in the box score, such as three pointers attempted (3PA) or minutes played.\n",
    "\n",
    "As far as I can tell, these models and analysis haven't much practical use and don't provide any meaningful or novel insight. Nevertheless, I find it kind of cool to be able to enter a statline and have the model output the player, from a specified subset of players, most likely to log that statline based on the data from the 2017/18 season.\n",
    "\n",
    "I would have liked to go into the details of the ML functions imported from the scikit-learn library but, unfortunately, I didn't find the time."
   ]
  },
  {
   "cell_type": "code",
   "execution_count": null,
   "metadata": {},
   "outputs": [],
   "source": []
  }
 ],
 "metadata": {
  "kernelspec": {
   "display_name": "Python 3",
   "language": "python",
   "name": "python3"
  },
  "language_info": {
   "codemirror_mode": {
    "name": "ipython",
    "version": 3
   },
   "file_extension": ".py",
   "mimetype": "text/x-python",
   "name": "python",
   "nbconvert_exporter": "python",
   "pygments_lexer": "ipython3",
   "version": "3.7.4"
  }
 },
 "nbformat": 4,
 "nbformat_minor": 2
}
